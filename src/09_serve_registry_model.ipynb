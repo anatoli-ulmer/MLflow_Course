{
 "cells": [
  {
   "cell_type": "markdown",
   "id": "832e0c65",
   "metadata": {},
   "source": [
    "## Notebook for Development of server_registry_model script"
   ]
  },
  {
   "cell_type": "code",
   "execution_count": null,
   "id": "63102e28",
   "metadata": {},
   "outputs": [
    {
     "name": "stdout",
     "output_type": "stream",
     "text": [
      "\n",
      "Available versions:\n",
      "1. Version=2\n",
      "aliases=[]\n",
      "creation_timestamp=1748552078665\n",
      "current_stage=None\n",
      "description=\n",
      "last_updated_timestamp=1748552078665\n",
      "name=apple_demand_predictor\n",
      "run_id=f357bc7b3abd4c73a93f3e940e7fd531\n",
      "run_link=\n",
      "source=file:///home/ubuntu/MLflow_Course/mlruns/455418596037949431/f357bc7b3abd4c73a93f3e940e7fd531/artifacts/rf_apples\n",
      "status=READY\n",
      "status_message=\n",
      "tags={}\n",
      "user_id=\n",
      "version=2\n",
      "2. Version=1\n",
      "aliases=[]\n",
      "creation_timestamp=1748551908831\n",
      "current_stage=None\n",
      "description=\n",
      "last_updated_timestamp=1748551908831\n",
      "name=apple_demand_predictor\n",
      "run_id=f357bc7b3abd4c73a93f3e940e7fd531\n",
      "run_link=\n",
      "source=file:///home/ubuntu/MLflow_Course/mlruns/455418596037949431/f357bc7b3abd4c73a93f3e940e7fd531/artifacts/rf_apples\n",
      "status=READY\n",
      "status_message=\n",
      "tags={'test': '1'}\n",
      "user_id=\n",
      "version=1\n",
      "\n",
      "Multiple model versions found.\n"
     ]
    }
   ],
   "source": [
    "%reload_ext autoreload\n",
    "%autoreload 2\n",
    "\n",
    "from serve_registry_model import *\n",
    "import sys\n",
    "import argparse\n",
    "\n",
    "# Simulate CLI arguments in the notebook\n",
    "args = argparse.Namespace(\n",
    "    tracking_uri = 'http://127.0.0.1:8080',\n",
    "    model_name = 'apple_demand_predictor',\n",
    "    version = None,\n",
    "    port = 5002\n",
    ")\n",
    "\n",
    "# main(args)\n",
    "\n",
    "# This does not work properly, since the code contains an 'input' part which can not be handled through jupyter easily"
   ]
  },
  {
   "cell_type": "code",
   "execution_count": null,
   "id": "b0a035c3",
   "metadata": {},
   "outputs": [],
   "source": []
  },
  {
   "cell_type": "code",
   "execution_count": null,
   "id": "099c28bc",
   "metadata": {},
   "outputs": [],
   "source": []
  }
 ],
 "metadata": {
  "kernelspec": {
   "display_name": "env_mlflow",
   "language": "python",
   "name": "python3"
  },
  "language_info": {
   "codemirror_mode": {
    "name": "ipython",
    "version": 3
   },
   "file_extension": ".py",
   "mimetype": "text/x-python",
   "name": "python",
   "nbconvert_exporter": "python",
   "pygments_lexer": "ipython3",
   "version": "3.8.10"
  }
 },
 "nbformat": 4,
 "nbformat_minor": 5
}
